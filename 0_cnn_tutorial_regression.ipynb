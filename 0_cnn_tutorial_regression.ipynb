{
 "cells": [
  {
   "cell_type": "markdown",
   "metadata": {},
   "source": [
    "In this tutorial, we will build a Convolutional Neural Network (CNN) model to classify images in the CIFAR-10 dataset. This guide assumes no prior experience with machine learning, deep learning, or PyTorch. We'll go through each step with detailed explanations.\n",
    "\n",
    "### Step 0: Set Up and Install Required Libraries\n",
    "Before starting, you need to install the necessary libraries. Open a terminal and use the following pip commands to install them."
   ]
  },
  {
   "cell_type": "code",
   "execution_count": null,
   "metadata": {},
   "outputs": [],
   "source": [
    "!pip install torch torchvision\n",
    "\n",
    "# Install Matplotlib for plotting\n",
    "!pip install matplotlib\n",
    "\n",
    "'''\n",
    "torch: PyTorch is a deep learning library used to create and train neural networks.\n",
    "torchvision: Contains common datasets, model architectures, and image transformations, specifically useful for vision-related tasks.\n",
    "matplotlib: A library for creating visualizations, which we'll use to plot training and testing accuracy.\n",
    "'''"
   ]
  },
  {
   "cell_type": "code",
   "execution_count": 1,
   "metadata": {},
   "outputs": [
    {
     "name": "stdout",
     "output_type": "stream",
     "text": [
      "Using device: cuda\n"
     ]
    }
   ],
   "source": [
    "# Import necessary libraries\n",
    "import torch\n",
    "import torch.nn as nn\n",
    "import torch.optim as optim\n",
    "import torch.nn.functional as F\n",
    "import torchvision\n",
    "import torchvision.transforms as transforms\n",
    "from torch.utils.data import DataLoader\n",
    "\n",
    "# Check if GPU is available and set device\n",
    "device = torch.device('cuda' if torch.cuda.is_available() else 'cpu')\n",
    "print(f\"Using device: {device}\")"
   ]
  },
  {
   "cell_type": "markdown",
   "metadata": {},
   "source": [
    "### Step 1: Define Hyperparameters\n",
    "Hyperparameters are parameters set before training that control the training process. \n",
    "Choosing good values for these hyperparameters is essential for training an effective model.\n",
    "In this tutorial, we define the following hyperparameters:\n",
    "1. **batch_size**: The number of images to process in one pass (or batch). \n",
    "   Higher values mean faster computation, but may require more memory.\n",
    "2. **learning_rate**: The rate at which the model's weights are updated. \n",
    "   Smaller values lead to slow but steady training, while larger values can make training unstable.\n",
    "3. **num_epochs**: The number of complete passes through the training dataset. \n",
    "   More epochs allow the model to learn more but can lead to overfitting if set too high.\n"
   ]
  },
  {
   "cell_type": "code",
   "execution_count": 2,
   "metadata": {},
   "outputs": [],
   "source": [
    "# Hyperparameters\n",
    "batch_size = 32        # Number of images in each batch\n",
    "learning_rate = 0.001  # Step size for optimizing weights\n",
    "num_epochs = 10        # Number of times to go through the entire dataset"
   ]
  },
  {
   "cell_type": "markdown",
   "metadata": {},
   "source": [
    "### Step 1: Load and Preprocess the CIFAR-10 Dataset\n",
    "The CIFAR-10 dataset consists of 60,000 32x32 color images in 10 different classes, with 6,000 images per class. \n",
    "The classes include airplane, automobile, bird, cat, deer, dog, frog, horse, ship, and truck.\n",
    "\n",
    "To prepare the data for training, we need to:\n",
    "1. Apply transformations like normalization and data augmentation.\n",
    "2. Split the dataset into training and testing sets."
   ]
  },
  {
   "cell_type": "code",
   "execution_count": null,
   "metadata": {},
   "outputs": [
    {
     "name": "stdout",
     "output_type": "stream",
     "text": [
      "Files already downloaded and verified\n",
      "Files already downloaded and verified\n",
      "Number of training examples: 50000\n",
      "Number of test examples: 10000\n"
     ]
    }
   ],
   "source": [
    "import torchvision.transforms as transforms\n",
    "import torchvision\n",
    "from torch.utils.data import DataLoader\n",
    "\n",
    "# Define the transformations for data augmentation and normalization\n",
    "transform = transforms.Compose([\n",
    "    transforms.RandomHorizontalFlip(),  # Randomly flip images horizontally\n",
    "    transforms.RandomCrop(32, padding=4),  # Crop the image to 32x32 with padding for augmentation\n",
    "    transforms.ToTensor(),  # Convert image to PyTorch tensor\n",
    "    transforms.Normalize((0.5, 0.5, 0.5), (0.5, 0.5, 0.5))  # Normalize to range [-1, 1]\n",
    "])\n",
    "\n",
    "# Load CIFAR-10 training and test datasets\n",
    "train_dataset = torchvision.datasets.CIFAR10(root='./data', train=True, download=True, transform=transform)\n",
    "test_dataset = torchvision.datasets.CIFAR10(root='./data', train=False, download=True, transform=transform)\n",
    "\n",
    "# Create DataLoaders to iterate over batches\n",
    "'''\n",
    "Dataloader is an iterable that abstracts the process of batching, loading, shuffling, and augmenting the data.\n",
    "It allows you to iterate over the dataset in batches, shuffle the data, and load the data in parallel using multiprocessing workers.\n",
    "'''\n",
    "train_loader = DataLoader(train_dataset, batch_size=batch_size, shuffle=True, num_workers=2)\n",
    "test_loader = DataLoader(test_dataset, batch_size=batch_size, shuffle=False, num_workers=2)\n",
    "\n",
    "# Print the size of the training and test datasets\n",
    "print(f\"Number of training examples: {len(train_dataset)}\")\n",
    "print(f\"Number of test examples: {len(test_dataset)}\")"
   ]
  },
  {
   "cell_type": "markdown",
   "metadata": {},
   "source": [
    "### Step 3: Define the CNN Model\n",
    "A Convolutional Neural Network (CNN) is designed to process images by learning spatial hierarchies of features.\n",
    "\n",
    "The structure of our CNN model:\n",
    "1. **Convolutional Layers**: Extract features from images, such as edges, textures, and shapes.\n",
    "2. **Pooling Layer**: Reduces the spatial dimensions of feature maps, making the model more computationally efficient.\n",
    "3. **Fully Connected Layers**: Combines all learned features to make final predictions."
   ]
  },
  {
   "cell_type": "markdown",
   "metadata": {},
   "source": [
    "### How CNNs Work\n",
    "\n",
    "The core components of CNNs are **convolutional layers** and **pooling layers**.\n",
    "\n",
    "1. **Convolutional Layers**:\n",
    "   - Convolutional layers apply filters (or kernels) to the input image. These filters are small grids, often 3x3 or 5x5, that slide over the image to capture patterns.\n",
    "   - Filters can detect edges, textures, shapes, and other features. As the network goes deeper, the filters become more complex and specific.\n",
    "   - The filter values (weights) are learned during the training process.\n",
    "\n",
    "   **Example of Convolution Operation**:\n",
    "   - The image below shows a basic convolution operation where a 3x3 filter is applied to a part of the input image.\n",
    "   \n",
    "   ![Convolution Example](images/cnn1.png)\n",
    "\n",
    "   - As shown, the 3x3 filter moves across the image and performs element-wise multiplication with the pixel values in the local region of the image. The results are summed up to form a single output pixel. This process repeats as the filter slides across the image.\n",
    "\n",
    "2. **Pooling Layers**:\n",
    "   - Pooling layers are typically used after convolutional layers to reduce the spatial dimensions of the feature maps, making the model more computationally efficient and reducing overfitting.\n",
    "   - The most common pooling operation is **max pooling**, which takes the maximum value from each patch of the feature map.\n",
    "   \n",
    "   Example of Max Pooling:\n",
    "   \n",
    "   ![Max Pooling](images/cnn2.svg)\n",
    "\n",
    "3. **Fully Connected Layers**:\n",
    "   - After several convolutional and pooling layers, the high-level reasoning in the neural network is handled by fully connected layers.\n",
    "   - These layers take the features extracted by previous layers and use them to classify the image.\n",
    "\n",
    "#### Putting It All Together\n",
    "\n",
    "A CNN architecture for image classification often looks like this:\n",
    "\n",
    "1. Start with one or more convolutional layers to learn low-level features from the images, such as edges or textures.\n",
    "2. Add pooling layers to reduce the spatial size of the feature maps.\n",
    "3. Increase the number of convolutional layers to learn more complex patterns as we go deeper.\n",
    "4. Finish with fully connected layers to combine all the learned features and make a final prediction.\n",
    "\n",
    "Below is a visual summary of how a CNN processes an image through multiple layers.\n",
    "\n",
    "![CNN Architecture](images/cnn3.jpg)\n",
    "\n",
    "#### Key Terms\n",
    "\n",
    "- **Filter (Kernel)**: A small matrix (e.g., 3x3 or 5x5) used to scan over the input image and extract specific features.\n",
    "- **Stride**: The number of pixels by which the filter matrix moves across the input image.\n",
    "- **Padding**: Adding extra pixels around the input image to maintain the output size.\n",
    "\n",
    "By understanding these components, we can now proceed to implement a CNN model for classifying images from the CIFAR-10 dataset."
   ]
  },
  {
   "cell_type": "code",
   "execution_count": 4,
   "metadata": {},
   "outputs": [],
   "source": [
    "import torch\n",
    "import torch.nn as nn\n",
    "import torch.nn.functional as F\n",
    "\n",
    "class CNNModel(nn.Module):\n",
    "    def __init__(self):\n",
    "        super(CNNModel, self).__init__()\n",
    "        \n",
    "        # Define three convolutional layers with increasing filter sizes\n",
    "        self.conv1 = nn.Conv2d(3, 32, kernel_size=3, padding=1)\n",
    "        self.conv2 = nn.Conv2d(32, 64, kernel_size=3, padding=1)\n",
    "        self.conv3 = nn.Conv2d(64, 128, kernel_size=3, padding=1)\n",
    "        \n",
    "        # Pooling layer for downsampling\n",
    "        self.pool = nn.MaxPool2d(2, 2)\n",
    "        \n",
    "        # Define two fully connected layers for classification\n",
    "        self.fc1 = nn.Linear(128 * 4 * 4, 256)\n",
    "        self.fc2 = nn.Linear(256, 10)\n",
    "        \n",
    "        # Flatten the output of the convolutional layers, so it become 1 dimension vector\n",
    "        self.flatten = nn.Flatten()\n",
    "        \n",
    "        # ReLu activation function, to introduce non-linearity\n",
    "        self.relu = nn.ReLU()\n",
    "        \n",
    "    def forward(self, x):\n",
    "        x = self.conv1(x)\n",
    "        x = self.relu(x)\n",
    "        x = self.pool(x)\n",
    "        \n",
    "        x = self.conv2(x)\n",
    "        x = self.relu(x)\n",
    "        x = self.pool(x)\n",
    "        \n",
    "        x = self.conv3(x)\n",
    "        x = self.relu(x)\n",
    "        x = self.pool(x)\n",
    "        \n",
    "        x = self.flatten(x)\n",
    "        \n",
    "        x = self.fc1(x)\n",
    "        x = self.relu(x)\n",
    "        \n",
    "        x = self.fc2(x)\n",
    "        return x\n",
    "\n",
    "# Initialize the model\n",
    "model = CNNModel().to(device)"
   ]
  },
  {
   "cell_type": "markdown",
   "metadata": {},
   "source": [
    "### Step 4: Define the Loss Function and Optimizer\n",
    "- **Loss Function**: Measures how well the model's predictions match the actual labels. We use CrossEntropyLoss for classification.\n",
    "- **Optimizer**: Updates model parameters to minimize the loss function. We use Adam, which adapts the learning rate for each parameter.\n"
   ]
  },
  {
   "cell_type": "code",
   "execution_count": 5,
   "metadata": {},
   "outputs": [],
   "source": [
    "import torch.optim as optim\n",
    "\n",
    "# Loss function and optimizer\n",
    "criterion = nn.CrossEntropyLoss()\n",
    "optimizer = optim.Adam(model.parameters(), lr=learning_rate)\n"
   ]
  },
  {
   "cell_type": "markdown",
   "metadata": {},
   "source": [
    "### Step 5: Train the Model\n",
    "In this step, we train the model over multiple epochs. During each epoch, we:\n",
    "1. **Feed the training data**: Pass images through the model.\n",
    "2. **Calculate the loss**: Measure the difference between the predicted and actual labels.\n",
    "3. **Update weights**: Adjust model parameters to reduce the loss.\n"
   ]
  },
  {
   "cell_type": "code",
   "execution_count": null,
   "metadata": {},
   "outputs": [],
   "source": [
    "# Training function\n",
    "def train(model, loader, criterion, optimizer, device):\n",
    "    model.train()  # Set the model to training mode\n",
    "    running_loss = 0.0\n",
    "    correct = 0\n",
    "    total = 0\n",
    "    \n",
    "    for images, labels in loader:\n",
    "        images, labels = images.to(device), labels.to(device)\n",
    "        \n",
    "        # Forward pass\n",
    "        outputs = model(images)\n",
    "        loss = criterion(outputs, labels)\n",
    "        \n",
    "        # Backward pass and optimization\n",
    "        optimizer.zero_grad()\n",
    "        loss.backward()\n",
    "        optimizer.step()\n",
    "        \n",
    "        # Track loss and accuracy\n",
    "        running_loss += loss.item()\n",
    "        _, predicted = outputs.max(1)\n",
    "        total += labels.size(0)\n",
    "        correct += predicted.eq(labels).sum().item()\n",
    "    \n",
    "    avg_loss = running_loss / len(loader)\n",
    "    accuracy = 100. * correct / total\n",
    "    return avg_loss, accuracy"
   ]
  },
  {
   "cell_type": "markdown",
   "metadata": {},
   "source": [
    "### Step 6: Test the Model\n",
    "After training, we evaluate the model on the test data to measure its performance on unseen images.\n"
   ]
  },
  {
   "cell_type": "code",
   "execution_count": 7,
   "metadata": {},
   "outputs": [],
   "source": [
    "# Testing function\n",
    "def test(model, loader, criterion, device):\n",
    "    model.eval()  # Set the model to evaluation mode\n",
    "    running_loss = 0.0\n",
    "    correct = 0\n",
    "    total = 0\n",
    "    \n",
    "    with torch.no_grad():\n",
    "        for images, labels in loader:\n",
    "            images, labels = images.to(device), labels.to(device)\n",
    "            \n",
    "            # Forward pass\n",
    "            outputs = model(images)\n",
    "            loss = criterion(outputs, labels)\n",
    "            \n",
    "            # Track loss and accuracy\n",
    "            running_loss += loss.item()\n",
    "            _, predicted = outputs.max(1)\n",
    "            total += labels.size(0)\n",
    "            correct += predicted.eq(labels).sum().item()\n",
    "    \n",
    "    avg_loss = running_loss / len(loader)\n",
    "    accuracy = 100. * correct / total\n",
    "    return avg_loss, accuracy"
   ]
  },
  {
   "cell_type": "markdown",
   "metadata": {},
   "source": [
    "### Step 7: Run Training and Testing\n",
    "Now we train the model for multiple epochs and test it after each epoch to observe its improvement over time."
   ]
  },
  {
   "cell_type": "code",
   "execution_count": 8,
   "metadata": {},
   "outputs": [
    {
     "name": "stdout",
     "output_type": "stream",
     "text": [
      "Epoch [1/10], Train Loss: 1.5096, Train Acc: 44.34%, Test Loss: 1.2150, Test Acc: 55.97%\n",
      "Epoch [2/10], Train Loss: 1.1235, Train Acc: 59.73%, Test Loss: 1.0159, Test Acc: 63.96%\n",
      "Epoch [3/10], Train Loss: 0.9474, Train Acc: 66.53%, Test Loss: 0.9581, Test Acc: 66.93%\n",
      "Epoch [4/10], Train Loss: 0.8529, Train Acc: 69.88%, Test Loss: 0.8651, Test Acc: 70.20%\n",
      "Epoch [5/10], Train Loss: 0.7884, Train Acc: 72.21%, Test Loss: 0.8322, Test Acc: 71.21%\n",
      "Epoch [6/10], Train Loss: 0.7357, Train Acc: 74.12%, Test Loss: 0.7827, Test Acc: 72.88%\n",
      "Epoch [7/10], Train Loss: 0.6964, Train Acc: 75.64%, Test Loss: 0.7380, Test Acc: 74.56%\n",
      "Epoch [8/10], Train Loss: 0.6708, Train Acc: 76.53%, Test Loss: 0.7047, Test Acc: 75.49%\n",
      "Epoch [9/10], Train Loss: 0.6442, Train Acc: 77.43%, Test Loss: 0.7349, Test Acc: 74.87%\n",
      "Epoch [10/10], Train Loss: 0.6203, Train Acc: 78.47%, Test Loss: 0.7378, Test Acc: 75.18%\n"
     ]
    }
   ],
   "source": [
    "train_losses, train_accuracies = [], []\n",
    "test_losses, test_accuracies = [], []\n",
    "\n",
    "for epoch in range(num_epochs):\n",
    "    train_loss, train_acc = train(model, train_loader, criterion, optimizer, device)\n",
    "    test_loss, test_acc = test(model, test_loader, criterion, device)\n",
    "    \n",
    "    # Store the results for plotting\n",
    "    train_losses.append(train_loss)\n",
    "    train_accuracies.append(train_acc)\n",
    "    test_losses.append(test_loss)\n",
    "    test_accuracies.append(test_acc)\n",
    "    \n",
    "    print(f\"Epoch [{epoch+1}/{num_epochs}], Train Loss: {train_loss:.4f}, Train Acc: {train_acc:.2f}%, \"\n",
    "          f\"Test Loss: {test_loss:.4f}, Test Acc: {test_acc:.2f}%\")\n"
   ]
  },
  {
   "cell_type": "markdown",
   "metadata": {},
   "source": [
    "### Step 8: Plot the Results\n",
    "Let's visualize the training and testing accuracy over epochs to see the model's progress.\n"
   ]
  },
  {
   "cell_type": "code",
   "execution_count": 9,
   "metadata": {},
   "outputs": [
    {
     "data": {
      "image/png": "[encoded data removed]",
      "text/plain": [
       "<Figure size 1200x500 with 1 Axes>"
      ]
     },
     "metadata": {},
     "output_type": "display_data"
    }
   ],
   "source": [
    "import matplotlib.pyplot as plt\n",
    "\n",
    "plt.figure(figsize=(12, 5))\n",
    "plt.plot(train_accuracies, label='Train Accuracy')\n",
    "plt.plot(test_accuracies, label='Test Accuracy')\n",
    "plt.xlabel('Epoch')\n",
    "plt.ylabel('Accuracy (%)')\n",
    "plt.title('Train and Test Accuracy')\n",
    "plt.legend()\n",
    "plt.show()"
   ]
  },
  {
   "cell_type": "markdown",
   "metadata": {},
   "source": [
    "### Step 9: Save the Model\n",
    "Finally, save the trained model to use it later for predictions or further training."
   ]
  },
  {
   "cell_type": "code",
   "execution_count": null,
   "metadata": {},
   "outputs": [],
   "source": [
    "torch.save(model.state_dict(), 'cnn_cifar10.pth')\n",
    "print(\"Model saved as cnn_cifar10.pth\")"
   ]
  }
 ],
 "metadata": {
  "kernelspec": {
   "display_name": "sgrs",
   "language": "python",
   "name": "python3"
  },
  "language_info": {
   "codemirror_mode": {
    "name": "ipython",
    "version": 3
   },
   "file_extension": ".py",
   "mimetype": "text/x-python",
   "name": "python",
   "nbconvert_exporter": "python",
   "pygments_lexer": "ipython3",
   "version": "3.11.5"
  }
 },
 "nbformat": 4,
 "nbformat_minor": 2
}
